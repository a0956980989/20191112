{
 "cells": [
  {
   "cell_type": "code",
   "execution_count": 1,
   "metadata": {},
   "outputs": [
    {
     "name": "stdout",
     "output_type": "stream",
     "text": [
      "        Pokemon      Type\n",
      "0     Bulbasaur     Grass\n",
      "1       Ivysaur     Grass\n",
      "2      Venusaur     Grass\n",
      "3    Charmander      Fire\n",
      "4    Charmeleon      Fire\n",
      "5     Charizard      Fire\n",
      "6      Squirtle     Water\n",
      "7     Wartortle     Water\n",
      "8     Blastoise     Water\n",
      "9      Caterpie       Bug\n",
      "10      Metapod       Bug\n",
      "11   Butterfree       Bug\n",
      "12       Weedle       Bug\n",
      "13       Kakuna       Bug\n",
      "14     Beedrill       Bug\n",
      "15       Pidgey    Normal\n",
      "16    Pidgeotto    Normal\n",
      "17      Pidgeot    Normal\n",
      "18      Rattata    Normal\n",
      "19     Raticate    Normal\n",
      "20      Spearow    Normal\n",
      "21       Fearow    Normal\n",
      "22        Ekans    Poison\n",
      "23        Arbok    Poison\n",
      "24      Pikachu  Electric\n",
      "25       Raichu  Electric\n",
      "26    Sandshrew    Ground\n",
      "27    Sandslash    Ground\n",
      "28      Nidoran    Poison\n",
      "29     Nidorina    Poison\n",
      "..          ...       ...\n",
      "691   Clauncher     Water\n",
      "692   Clawitzer     Water\n",
      "693  Helioptile  Electric\n",
      "694   Heliolisk  Electric\n",
      "695      Tyrunt      Rock\n",
      "696   Tyrantrum      Rock\n",
      "697      Amaura      Rock\n",
      "698     Aurorus      Rock\n",
      "699     Sylveon     Fairy\n",
      "700    Hawlucha  Fighting\n",
      "701     Dedenne  Electric\n",
      "702     Carbink      Rock\n",
      "703       Goomy    Dragon\n",
      "704     Sliggoo    Dragon\n",
      "705      Goodra    Dragon\n",
      "706      Klefki     Steel\n",
      "707    Phantump     Ghost\n",
      "708   Trevenant     Ghost\n",
      "709   Pumpkaboo     Ghost\n",
      "710   Gourgeist     Ghost\n",
      "711    Bergmite       Ice\n",
      "712     Avalugg       Ice\n",
      "713      Noibat    Flying\n",
      "714     Noivern    Flying\n",
      "715     Xerneas     Fairy\n",
      "716     Yveltal      Dark\n",
      "717     Zygarde    Dragon\n",
      "718     Diancie      Rock\n",
      "719       Hoopa   Psychic\n",
      "720   Volcanion      Fire\n",
      "\n",
      "[721 rows x 2 columns]\n"
     ]
    }
   ],
   "source": [
    "import pandas as pd\n",
    "df = pd.read_csv('./pokemon.csv')\n",
    "print(df)"
   ]
  },
  {
   "cell_type": "code",
   "execution_count": 2,
   "metadata": {},
   "outputs": [
    {
     "data": {
      "text/html": [
       "<div>\n",
       "<style scoped>\n",
       "    .dataframe tbody tr th:only-of-type {\n",
       "        vertical-align: middle;\n",
       "    }\n",
       "\n",
       "    .dataframe tbody tr th {\n",
       "        vertical-align: top;\n",
       "    }\n",
       "\n",
       "    .dataframe thead th {\n",
       "        text-align: right;\n",
       "    }\n",
       "</style>\n",
       "<table border=\"1\" class=\"dataframe\">\n",
       "  <thead>\n",
       "    <tr style=\"text-align: right;\">\n",
       "      <th></th>\n",
       "      <th>Pokemon</th>\n",
       "      <th>Type</th>\n",
       "    </tr>\n",
       "  </thead>\n",
       "  <tbody>\n",
       "    <tr>\n",
       "      <th>count</th>\n",
       "      <td>721</td>\n",
       "      <td>721</td>\n",
       "    </tr>\n",
       "    <tr>\n",
       "      <th>unique</th>\n",
       "      <td>721</td>\n",
       "      <td>18</td>\n",
       "    </tr>\n",
       "    <tr>\n",
       "      <th>top</th>\n",
       "      <td>Swablu</td>\n",
       "      <td>Water</td>\n",
       "    </tr>\n",
       "    <tr>\n",
       "      <th>freq</th>\n",
       "      <td>1</td>\n",
       "      <td>105</td>\n",
       "    </tr>\n",
       "  </tbody>\n",
       "</table>\n",
       "</div>"
      ],
      "text/plain": [
       "       Pokemon   Type\n",
       "count      721    721\n",
       "unique     721     18\n",
       "top     Swablu  Water\n",
       "freq         1    105"
      ]
     },
     "execution_count": 2,
     "metadata": {},
     "output_type": "execute_result"
    }
   ],
   "source": [
    "df.describe()"
   ]
  },
  {
   "cell_type": "markdown",
   "metadata": {},
   "source": [
    "屬性最高的三種"
   ]
  },
  {
   "cell_type": "code",
   "execution_count": 4,
   "metadata": {},
   "outputs": [
    {
     "data": {
      "text/plain": [
       "Water     105\n",
       "Normal     93\n",
       "Grass      66\n",
       "Name: Type, dtype: int64"
      ]
     },
     "execution_count": 4,
     "metadata": {},
     "output_type": "execute_result"
    }
   ],
   "source": [
    "df['Type'].value_counts()[:3]"
   ]
  }
 ],
 "metadata": {
  "kernelspec": {
   "display_name": "Python 3",
   "language": "python",
   "name": "python3"
  },
  "language_info": {
   "codemirror_mode": {
    "name": "ipython",
    "version": 3
   },
   "file_extension": ".py",
   "mimetype": "text/x-python",
   "name": "python",
   "nbconvert_exporter": "python",
   "pygments_lexer": "ipython3",
   "version": "3.6.4"
  }
 },
 "nbformat": 4,
 "nbformat_minor": 2
}
